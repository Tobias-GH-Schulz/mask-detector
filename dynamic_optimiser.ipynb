{
 "cells": [
  {
   "cell_type": "code",
   "execution_count": 1,
   "id": "opened-cooling",
   "metadata": {
    "ExecuteTime": {
     "end_time": "2021-03-25T13:30:01.637336Z",
     "start_time": "2021-03-25T13:28:03.784916Z"
    }
   },
   "outputs": [],
   "source": [
    "import cv2\n",
    "import numpy as np \n",
    "\n",
    "video = cv2.VideoCapture(0)\n",
    "\n",
    "while True:\n",
    "    ret, image = video.read()\n",
    "    image = cv2.resize(image, (400,300))\n",
    "    \n",
    "    hsv = cv2.cvtColor(image, cv2.COLOR_BGR2HSV)\n",
    "    h, s, v = cv2.split(hsv)\n",
    "\n",
    "    if np.mean(v) > 200:\n",
    "        cv2.imshow('original',image)\n",
    "    \n",
    "    elif np.mean(v) > 150:\n",
    "        alpha = 2\n",
    "        beta = 10\n",
    "\n",
    "        new_image = cv2.addWeighted(image, alpha, np.zeros(image.shape, image.dtype), 0, beta)\n",
    "    \n",
    "        cv2.imshow('optimised',new_image) \n",
    "    \n",
    "    elif np.mean(v) > 120:\n",
    "        alpha = 2\n",
    "        beta = 30\n",
    "\n",
    "        new_image = cv2.addWeighted(image, alpha, np.zeros(image.shape, image.dtype), 0, beta)\n",
    "    \n",
    "        cv2.imshow('optimised',new_image) \n",
    "        \n",
    "    elif np.mean(v) > 100:\n",
    "        alpha = 2\n",
    "        beta = 40\n",
    "\n",
    "        new_image = cv2.addWeighted(image, alpha, np.zeros(image.shape, image.dtype), 0, beta)\n",
    "    \n",
    "        cv2.imshow('optimised',new_image) \n",
    "        \n",
    "    else:\n",
    "        alpha = 2\n",
    "        beta = 120\n",
    "\n",
    "        new_image = cv2.addWeighted(image, alpha, np.zeros(image.shape, image.dtype), 0, beta)\n",
    "    \n",
    "        cv2.imshow('optimised',new_image) \n",
    "    \n",
    "    key = cv2.waitKey(1) & 0xFF\n",
    "    if key == ord(\"q\"):\n",
    "        break \n",
    "    \n",
    "video.release()\n",
    "cv2.destroyAllWindows()"
   ]
  },
  {
   "cell_type": "code",
   "execution_count": null,
   "id": "popular-wheel",
   "metadata": {},
   "outputs": [],
   "source": []
  }
 ],
 "metadata": {
  "kernelspec": {
   "display_name": "Python 3",
   "language": "python",
   "name": "python3"
  },
  "language_info": {
   "codemirror_mode": {
    "name": "ipython",
    "version": 3
   },
   "file_extension": ".py",
   "mimetype": "text/x-python",
   "name": "python",
   "nbconvert_exporter": "python",
   "pygments_lexer": "ipython3",
   "version": "3.8.5"
  }
 },
 "nbformat": 4,
 "nbformat_minor": 5
}
