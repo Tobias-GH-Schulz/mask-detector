{
 "cells": [
  {
   "cell_type": "code",
   "execution_count": 1,
   "id": "clinical-beaver",
   "metadata": {
    "ExecuteTime": {
     "end_time": "2021-03-24T15:04:27.006627Z",
     "start_time": "2021-03-24T15:04:26.317847Z"
    }
   },
   "outputs": [],
   "source": [
    "import cv2\n",
    "import numpy as np\n",
    "import time"
   ]
  },
  {
   "cell_type": "code",
   "execution_count": 2,
   "id": "heavy-tactics",
   "metadata": {
    "ExecuteTime": {
     "end_time": "2021-03-24T15:15:05.617798Z",
     "start_time": "2021-03-24T15:04:40.283528Z"
    }
   },
   "outputs": [],
   "source": [
    "video = cv2.VideoCapture(0)\n",
    "\n",
    "while True:\n",
    "    #read image\n",
    "    ret, img = video.read()\n",
    "    \n",
    "    #resize image\n",
    "    img = cv2.resize(img, (400,300))\n",
    "\n",
    "    # normalize float versions\n",
    "    norm_img1 = cv2.normalize(img, None, alpha=0, beta=1.2, norm_type=cv2.NORM_MINMAX, dtype=cv2.CV_32F)\n",
    "    norm_img2 = cv2.normalize(img, None, alpha=0, beta=3, norm_type=cv2.NORM_MINMAX, dtype=cv2.CV_32F)\n",
    "\n",
    "    # scale to uint8\n",
    "    norm_img1 = (255*norm_img1).astype(np.uint8) \n",
    "    norm_img2 = np.clip(norm_img2, 0, 1)\n",
    "    norm_img2 = (255*norm_img2).astype(np.uint8)\n",
    "    \n",
    "\n",
    "    # display input and both output images\n",
    "    cv2.imshow('original',img)\n",
    "    cv2.imshow('contrast_stretch1',norm_img1)\n",
    "    cv2.imshow('contrast_stretch2',norm_img2)\n",
    "    \n",
    "    key = cv2.waitKey(1) & 0xFF\n",
    "    if key == ord(\"q\"):\n",
    "        break \n",
    "    \n",
    "video.release()\n",
    "cv2.destroyAllWindows()"
   ]
  },
  {
   "cell_type": "code",
   "execution_count": null,
   "id": "hawaiian-cologne",
   "metadata": {},
   "outputs": [],
   "source": []
  }
 ],
 "metadata": {
  "kernelspec": {
   "display_name": "Python 3",
   "language": "python",
   "name": "python3"
  },
  "language_info": {
   "codemirror_mode": {
    "name": "ipython",
    "version": 3
   },
   "file_extension": ".py",
   "mimetype": "text/x-python",
   "name": "python",
   "nbconvert_exporter": "python",
   "pygments_lexer": "ipython3",
   "version": "3.8.5"
  }
 },
 "nbformat": 4,
 "nbformat_minor": 5
}
